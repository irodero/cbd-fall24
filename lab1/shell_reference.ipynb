{
 "cells": [
  {
   "cell_type": "markdown",
   "id": "7a2c9ddb-1784-4d20-9459-ac28116fe5e7",
   "metadata": {},
   "source": [
    "# Shell Reference\n",
    "---\n",
    "\n",
    "This notebook covers basic concepts and commands for the Linux shell.\n",
    "\n",
    "You can use the notebook for the examples below or the terminal.\n",
    "\n",
    "Useful pointers are provided below:\n",
    "\n",
    "* [http://linuxcommand.org](http://linuxcommand.org)\n",
    "* [https://help.ubuntu.com/community/SSH/OpenSSH/Keys](https://help.ubuntu.com/community/SSH/OpenSSH/Keys)\n",
    "* [http://www.tldp.org/LDP/Bash-Beginners-Guide/html/](http://www.tldp.org/LDP/Bash-Beginners-Guide/html/)\n",
    "\n",
    "## Basic Commands\n",
    "\n",
    "* `cat` displays the contents of its inputs.\n",
    "* `cd path` changes the current working directory.\n",
    "* `cp old new` copies a file.\n",
    "* `find` finds files with specific properties that match patterns.\n",
    "* `grep` selects lines in files that match patterns.\n",
    "* `head` displays the first few lines of its input.\n",
    "* `ls path` prints a listing of a specific file or directory; ls on its own lists the current working directory.\n",
    "* `man command` displays the manual page for a given command.\n",
    "* `mkdir path` creates a new directory.\n",
    "* `mv old new` moves (renames) a file or directory.\n",
    "* `pwd` prints the user's current working directory.\n",
    "* `rm path` removes (deletes) a file. IMPORTANT: files cannot be recovered (no \"trash bin\" available).\n",
    "* `rmdir path` removes (deletes) an empty directory. You can also remove any directory with `rm -rf path`.\n",
    "* `sort` sorts its inputs.\n",
    "* `tail` displays the last few lines of its input.\n",
    "* `touch path` creates an empty file if it doesn't already exist.\n",
    "* `wc` counts lines, words, and characters in its inputs.\n",
    "* `whoami` shows the user's current identity.\n",
    "* `file path` return the time of file.\n",
    "\n",
    "## Paths\n",
    "\n",
    "* `/path/from/root` is an absolute path.\n",
    "* `/` on its own refers to the root of the filesystem.\n",
    "* `path/without/leading/slash` is a relative path.\n",
    "* `.` refers to the current directory, `..` to its parent.\n",
    "* `*` matches zero or more characters in a filename, so `*.txt` matches all files ending in .txt.\n",
    "* `?` mathes any single character in a filename, so `?.txt` matches a.txt but not any.txt.\n",
    "\n",
    "## Combining Commands\n",
    "\n",
    "* `command > file` redirects a command's output to a file.\n",
    "* `first | second` connects the output of the first command to the intput of the second.\n",
    "* A for loop repeats commands once for every thing in a list:\n",
    "\n",
    "`for variable in name_1 name_2 name_3\n",
    "do\n",
    "    ...commands refering to $variable...\n",
    "done`\n",
    "\n",
    "* Use `$name` to expand a variable (i.e., get its value).\n",
    "* `history` displays recent commands, and `!number` to repeat a command by number.\n",
    "* `bash filename` runs commands saves in filename.\n",
    "* `$*` refers to all of a shell script's command-line parameters.\n",
    "* `$1,$2,etc.` refer to specified command-line parameters.\n",
    "* `$(command)` inserts a command's output in place.\n",
    "\n",
    "## Additional commands\n",
    "\n",
    "* `more` displays the contents of a file with page breaks (next page with Space key).\n",
    "* `cut` cuts out parts of a file (e.g., `cut -f 2 -d : file.txt`).\n",
    "* `du` reports disk usage (e.g., `du -h`).\n",
    "* `df` reports filesystems and their usage (e.g., `df -h`).\n",
    "* `chmod` changes permissions of a file (e.g., `chmod a+r file.txt`).\n",
    "* `ln` creates a link to a file (e.g., `ln -s ~/bin/prog.exe prog1.exe`).\n"
   ]
  },
  {
   "cell_type": "markdown",
   "id": "0b3e736b-385e-4023-ad0d-6dc421a44c33",
   "metadata": {},
   "source": [
    "---\n",
    "## Let's try some commands!\n",
    "\n",
    "You can use the notebook cells with your command:"
   ]
  },
  {
   "cell_type": "code",
   "execution_count": null,
   "id": "c50ab4e2-f0e4-46f1-bb39-ea6aab680818",
   "metadata": {},
   "outputs": [],
   "source": [
    "pwd "
   ]
  },
  {
   "cell_type": "markdown",
   "id": "365fbee9-e974-473e-8fda-77f0cc8f8e64",
   "metadata": {},
   "source": [
    "It provides your current directory\n",
    "\n",
    "You can explicitly indicate that you want to commands from the underlying operating system using the exclamation sign (!)"
   ]
  },
  {
   "cell_type": "code",
   "execution_count": null,
   "id": "5714e465-7a21-4a59-86e2-0e2f92ec967b",
   "metadata": {},
   "outputs": [],
   "source": [
    "!pwd"
   ]
  },
  {
   "cell_type": "markdown",
   "id": "2017ff67-01e7-4986-a775-62b1f4c57e80",
   "metadata": {},
   "source": [
    "We can change directory using an absolute path, e.g., `/tmp` and then check the current directory and list contents."
   ]
  },
  {
   "cell_type": "code",
   "execution_count": null,
   "id": "8fb933c6-95fb-4ae5-8927-307a25430a69",
   "metadata": {},
   "outputs": [],
   "source": [
    "cd /mnt/tmp"
   ]
  },
  {
   "cell_type": "code",
   "execution_count": null,
   "id": "f54e03c9-547f-4b0c-adcd-8681a663242f",
   "metadata": {},
   "outputs": [],
   "source": [
    "pwd"
   ]
  },
  {
   "cell_type": "code",
   "execution_count": null,
   "id": "03084124-b23f-46d0-a4f1-909aed75e10e",
   "metadata": {},
   "outputs": [],
   "source": [
    "ls"
   ]
  },
  {
   "cell_type": "markdown",
   "id": "5ca9604f-de33-4fa6-b344-3ac93457b098",
   "metadata": {},
   "source": [
    "We can try to change directory one level above in the tree."
   ]
  },
  {
   "cell_type": "code",
   "execution_count": null,
   "id": "4670b7bd-01c5-4c79-847a-db07ac5bf1d1",
   "metadata": {},
   "outputs": [],
   "source": [
    "cd.."
   ]
  },
  {
   "cell_type": "markdown",
   "id": "36391e76-ec1d-4528-9ba6-17e817303da6",
   "metadata": {},
   "source": [
    " You need to leave an space between the cd and the two dots!"
   ]
  },
  {
   "cell_type": "code",
   "execution_count": null,
   "id": "5440ba7c-c225-4851-9030-2c554414b9f0",
   "metadata": {},
   "outputs": [],
   "source": [
    "cd ."
   ]
  },
  {
   "cell_type": "code",
   "execution_count": null,
   "id": "1665271c-5237-4714-9f09-e77d579593cf",
   "metadata": {},
   "outputs": [],
   "source": [
    "pwd"
   ]
  },
  {
   "cell_type": "markdown",
   "id": "b71e58fe-f1a9-4670-8b9b-db32d8a8ae79",
   "metadata": {},
   "source": [
    "Now we can go directly to the home directory (which contains lab1). There are different ways:"
   ]
  },
  {
   "cell_type": "code",
   "execution_count": null,
   "id": "3abcb6ff-6500-4a84-9e3a-a17b1d3742d9",
   "metadata": {},
   "outputs": [],
   "source": [
    "cd ~"
   ]
  },
  {
   "cell_type": "code",
   "execution_count": null,
   "id": "bebcc342-efd4-4c69-b888-821e13a50ce0",
   "metadata": {},
   "outputs": [],
   "source": [
    "cd /mnt/tmp"
   ]
  },
  {
   "cell_type": "code",
   "execution_count": null,
   "id": "e9f05089-143d-47cd-a8da-7852fd9d37d1",
   "metadata": {},
   "outputs": [],
   "source": [
    "cd ~YOUR_USERNAME"
   ]
  },
  {
   "cell_type": "markdown",
   "id": "d1818fe1-2036-4e81-bf5b-32928b779cd2",
   "metadata": {},
   "source": [
    "Let's list the contents of the directory lab1"
   ]
  },
  {
   "cell_type": "code",
   "execution_count": null,
   "id": "22500d5b-52db-4906-8c14-3c17da5f8a7f",
   "metadata": {},
   "outputs": [],
   "source": [
    "ls lab1"
   ]
  },
  {
   "cell_type": "markdown",
   "id": "f0962e53-2000-4185-a0e8-dcd32b79a0bb",
   "metadata": {},
   "source": [
    "We can use absolute path and use options: `ls -lisa /YOUR_PATH/lab1`"
   ]
  },
  {
   "cell_type": "code",
   "execution_count": null,
   "id": "5f9c901c-3b25-4471-b9eb-df0b63f0f94b",
   "metadata": {},
   "outputs": [],
   "source": [
    "ls -lisa /YOUR_PATH/lab1"
   ]
  },
  {
   "cell_type": "markdown",
   "id": "ede4f432-c139-42d1-81ed-23e47d99d574",
   "metadata": {},
   "source": [
    "Let's create a directory (i.e., folder) after changing directory to lab1. Then we check that has been created by listing "
   ]
  },
  {
   "cell_type": "code",
   "execution_count": null,
   "id": "97cc75b0-e60e-4fe4-9305-08290837aa1e",
   "metadata": {},
   "outputs": [],
   "source": [
    "cd lab1\n"
   ]
  },
  {
   "cell_type": "code",
   "execution_count": null,
   "id": "13c92959-022c-41d9-a325-f7de6cfa0b76",
   "metadata": {},
   "outputs": [],
   "source": [
    "mkdir test2"
   ]
  },
  {
   "cell_type": "markdown",
   "id": "2a76fcdb-096d-4f79-98db-cd06b82c4790",
   "metadata": {},
   "source": [
    "Now, let's copy the \"generate\" program into the test directory, after changing directory to test."
   ]
  },
  {
   "cell_type": "code",
   "execution_count": null,
   "id": "2bb17795-38f4-480e-b66a-5a9caa59bdd8",
   "metadata": {},
   "outputs": [],
   "source": [
    "pwd"
   ]
  },
  {
   "cell_type": "code",
   "execution_count": null,
   "id": "8a1a5f9d-9db2-4f9f-b1fe-6e72dc05e34f",
   "metadata": {},
   "outputs": [],
   "source": [
    "cp ../generate ."
   ]
  },
  {
   "cell_type": "markdown",
   "id": "36a086f7-6b08-4ba6-a43b-cdd1256492f0",
   "metadata": {},
   "source": [
    "**Important**: it is needed to use dot and slash (./) before the name of the program. It is also needed to explicitly use exclamation sign before the command."
   ]
  },
  {
   "cell_type": "code",
   "execution_count": null,
   "id": "4a88d1fd-9d2b-44df-80fb-207dfaf832d1",
   "metadata": {},
   "outputs": [],
   "source": [
    "!generate"
   ]
  },
  {
   "cell_type": "code",
   "execution_count": null,
   "id": "6f7c9c19-f7d0-4bd1-9987-8700b1dfc56e",
   "metadata": {},
   "outputs": [],
   "source": [
    "!./generate"
   ]
  },
  {
   "cell_type": "markdown",
   "id": "864ff3a7-97ee-4a8b-8da6-ec51cbc6394a",
   "metadata": {},
   "source": [
    "The generate program requires two parameters:"
   ]
  },
  {
   "cell_type": "code",
   "execution_count": null,
   "id": "096ebc43-7ff0-4d14-9069-75e434eaaa8f",
   "metadata": {},
   "outputs": [],
   "source": [
    "!./generate 4 3"
   ]
  },
  {
   "cell_type": "markdown",
   "id": "da0a633e-3b82-4feb-9583-83f5e51480de",
   "metadata": {},
   "source": [
    "We can save the output of the generate program by redirecting it to a file:"
   ]
  },
  {
   "cell_type": "code",
   "execution_count": null,
   "id": "2dc965f0-00b1-4d5a-b9a8-ae777cb0980f",
   "metadata": {},
   "outputs": [],
   "source": [
    "!time ./generate 500000 2 > output_5000000_2.txt"
   ]
  },
  {
   "cell_type": "markdown",
   "id": "d3818d26-e912-40b4-91d2-b0cf0203eab3",
   "metadata": {},
   "source": [
    "We can list the file, but also the content with the command `cat`"
   ]
  },
  {
   "cell_type": "code",
   "execution_count": null,
   "id": "9b532574-493a-4aa3-b6e6-45df7875c9d1",
   "metadata": {},
   "outputs": [],
   "source": [
    "ls "
   ]
  },
  {
   "cell_type": "code",
   "execution_count": null,
   "id": "0d784d89-e613-4c78-a033-a1b8313643b0",
   "metadata": {},
   "outputs": [],
   "source": [
    "cat output_5000000_2.txt | more"
   ]
  },
  {
   "cell_type": "markdown",
   "id": "f0d72bae-e594-41c5-bf47-b440e616ee6f",
   "metadata": {},
   "source": [
    "Let's count the number of lines of the file \"newfile\" by redirecrting the output of the previous command to the command `wc`:"
   ]
  },
  {
   "cell_type": "code",
   "execution_count": null,
   "id": "25bf749f-ea56-489f-a4b5-281d19e0d06a",
   "metadata": {},
   "outputs": [],
   "source": [
    "cat output_5000000_2.txt | wc -l"
   ]
  },
  {
   "cell_type": "markdown",
   "id": "a571a6b7-1dfd-4d47-a64a-13fb759bb67a",
   "metadata": {},
   "source": [
    "Finally, we want to remove the directory test. First, we change directory to ~/lab1 and use the command `rm`.  **Note: Please be very careful when using rm. **"
   ]
  },
  {
   "cell_type": "code",
   "execution_count": null,
   "id": "40891d97-291f-48d2-ab5f-3d02992636a8",
   "metadata": {},
   "outputs": [],
   "source": [
    "cd ~/lab1"
   ]
  },
  {
   "cell_type": "code",
   "execution_count": null,
   "id": "16f2f03f-6080-4a9c-a838-b862f3a3ab09",
   "metadata": {},
   "outputs": [],
   "source": [
    "rm test2"
   ]
  },
  {
   "cell_type": "code",
   "execution_count": null,
   "id": "b7ea34d0-8a7f-423c-b2c9-952982364cf6",
   "metadata": {},
   "outputs": [],
   "source": [
    "rm -r test2"
   ]
  },
  {
   "cell_type": "markdown",
   "id": "806adda0-4fcd-413a-8712-3df7edf93e10",
   "metadata": {},
   "source": [
    "Let us check that the directory has been removed by listing the directory."
   ]
  },
  {
   "cell_type": "code",
   "execution_count": null,
   "id": "57ed9cad-c871-4b62-9ca4-1eca08d56c05",
   "metadata": {},
   "outputs": [],
   "source": [
    "ls -lisa"
   ]
  },
  {
   "cell_type": "code",
   "execution_count": null,
   "id": "710e5bd2-b5d5-4404-972a-751a47470e50",
   "metadata": {},
   "outputs": [],
   "source": []
  }
 ],
 "metadata": {
  "kernelspec": {
   "display_name": "Python 3",
   "language": "python",
   "name": "python3"
  },
  "language_info": {
   "codemirror_mode": {
    "name": "ipython",
    "version": 3
   },
   "file_extension": ".py",
   "mimetype": "text/x-python",
   "name": "python",
   "nbconvert_exporter": "python",
   "pygments_lexer": "ipython3",
   "version": "3.7.10"
  }
 },
 "nbformat": 4,
 "nbformat_minor": 5
}
